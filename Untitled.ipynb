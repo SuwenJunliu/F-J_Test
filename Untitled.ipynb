{
 "cells": [
  {
   "cell_type": "code",
   "execution_count": null,
   "metadata": {},
   "outputs": [],
   "source": [
    "import numpy as np\n",
    "import matplotlib.pyplot as plt\n",
    "import os\n",
    "\n",
    "corrFilePath = \"C:\\\\Users\\\\Junliu\\\\Desktop\\\\160Line\\\\Z-Z\\\\430L160\"\n",
    "corrFileNames = os.listdir(path)\n",
    "\n",
    "for corrFileName in corrFileNames:\n",
    "    rawCorrData = np.loadtxt(corrFileName)\n",
    "    "
   ]
  }
 ],
 "metadata": {
  "kernelspec": {
   "display_name": "Python 3",
   "language": "python",
   "name": "python3"
  },
  "language_info": {
   "codemirror_mode": {
    "name": "ipython",
    "version": 3
   },
   "file_extension": ".py",
   "mimetype": "text/x-python",
   "name": "python",
   "nbconvert_exporter": "python",
   "pygments_lexer": "ipython3",
   "version": "3.7.3"
  }
 },
 "nbformat": 4,
 "nbformat_minor": 4
}
